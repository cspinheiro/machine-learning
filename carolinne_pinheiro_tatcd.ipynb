{
  "nbformat": 4,
  "nbformat_minor": 0,
  "metadata": {
    "kernelspec": {
      "display_name": "Python 3",
      "language": "python",
      "name": "python3"
    },
    "language_info": {
      "codemirror_mode": {
        "name": "ipython",
        "version": 3
      },
      "file_extension": ".py",
      "mimetype": "text/x-python",
      "name": "python",
      "nbconvert_exporter": "python",
      "pygments_lexer": "ipython3",
      "version": "3.8.8"
    },
    "colab": {
      "name": "carolinne_pinheiro_tatcd",
      "provenance": []
    }
  },
  "cells": [
    {
      "cell_type": "markdown",
      "metadata": {
        "id": "ImiKaWOUjjAp"
      },
      "source": [
        "# MBA em Ciência de Dados\n",
        "**Técnicas Avançadas de Captura e Tratamento de Dados**\n",
        "\n",
        "---\n",
        "\n",
        "\n",
        "Carolinne dos Santos Pinheiro\n",
        "\n",
        "\n",
        "---\n",
        "\n",
        "\n"
      ]
    },
    {
      "cell_type": "code",
      "metadata": {
        "id": "la-ESnG_6npd"
      },
      "source": [
        "from PIL import Image\n",
        "from pdf2image import convert_from_path\n",
        "from skimage import feature\n",
        "from os import listdir\n",
        "\n",
        "import pytesseract as ocr\n",
        "import nltk\n",
        "import re\n",
        "import os\n",
        "import numpy\n",
        "import pandas\n",
        "import imageio\n",
        "import matplotlib.pyplot as plt\n"
      ],
      "execution_count": null,
      "outputs": []
    },
    {
      "cell_type": "code",
      "metadata": {
        "execution": {
          "iopub.execute_input": "2021-06-07T14:56:16.107453Z",
          "iopub.status.busy": "2021-06-07T14:56:16.107185Z",
          "iopub.status.idle": "2021-06-07T14:56:20.474024Z",
          "shell.execute_reply": "2021-06-07T14:56:20.473201Z",
          "shell.execute_reply.started": "2021-06-07T14:56:16.107383Z"
        },
        "tags": [],
        "id": "UANftUC6jjAu"
      },
      "source": [
        "# Exercício 1\n",
        "\n",
        "pdf = 'modcovid.pdf'\n",
        "png = 'modcovid.png'\n",
        "txt = 'modcovid.txt'\n",
        "\n",
        "obj_pdf = convert_from_path(pdf)\n",
        "obj_pdf[0].save(png, 'PNG')\n",
        "\n",
        "ocr_txt = ocr.image_to_string(Image.open(png), lang='por') # testar lang='pt'\n",
        "\n",
        "ObjFileW = open(txt, 'w')\n",
        "ObjFileW.write(ocr_txt)\n",
        "ObjFileW.close()"
      ],
      "execution_count": null,
      "outputs": []
    },
    {
      "cell_type": "code",
      "metadata": {
        "execution": {
          "iopub.execute_input": "2021-06-07T14:56:20.475941Z",
          "iopub.status.busy": "2021-06-07T14:56:20.475677Z",
          "iopub.status.idle": "2021-06-07T14:56:21.081192Z",
          "shell.execute_reply": "2021-06-07T14:56:21.080504Z",
          "shell.execute_reply.started": "2021-06-07T14:56:20.475906Z"
        },
        "tags": [],
        "id": "GnCg69ldjjAw"
      },
      "source": [
        "# Exercício 2\n",
        "\n",
        "ObjFileR = open(txt, 'r')\n",
        "FileContent = ObjFileR.read()\n",
        "ObjFileR.close()\n",
        "\n",
        "def FixDocStrings(v_String):\n",
        "    StringArr = nltk.word_tokenize(v_String)\n",
        "    StringArr = [Plv for Plv in StringArr if Plv.isalpha()]\n",
        "    return StringArr\n",
        "\n",
        "FixedContent = FixDocStrings(FileContent)\n",
        "\n",
        "print('O número de palavras com somente um caractere é: %d' % (len([Plv for Plv in FixedContent if len(Plv) == 1])))"
      ],
      "execution_count": null,
      "outputs": []
    },
    {
      "cell_type": "code",
      "metadata": {
        "execution": {
          "iopub.execute_input": "2021-06-07T14:56:21.083076Z",
          "iopub.status.busy": "2021-06-07T14:56:21.082831Z",
          "iopub.status.idle": "2021-06-07T14:56:21.390318Z",
          "shell.execute_reply": "2021-06-07T14:56:21.389675Z",
          "shell.execute_reply.started": "2021-06-07T14:56:21.083046Z"
        },
        "tags": [],
        "id": "N9iRkUeNjjAy"
      },
      "source": [
        "# Exercício 3A\n",
        "\n",
        "ArquivoCSV = 'artists_mba21.csv'\n",
        "PdCSV = pandas.read_csv(ArquivoCSV)\n",
        "PdCSV['genre'] = PdCSV['genre'].str.split(',')\n",
        "\n",
        "PdCSVArr = []\n",
        "for Row in PdCSV[['name', 'genre']].iterrows():\n",
        "    for Genre in Row[1]['genre']:\n",
        "        PdCSVArr.append({'name': Row[1]['name'], 'genre': Genre})\n",
        "\n",
        "Pd3A = pandas.DataFrame.from_dict(PdCSVArr)\n",
        "Pd3A.groupby(['genre']).count().hist(); # verificar %colors\n"
      ],
      "execution_count": null,
      "outputs": []
    },
    {
      "cell_type": "code",
      "metadata": {
        "execution": {
          "iopub.execute_input": "2021-06-07T14:56:21.669678Z",
          "iopub.status.busy": "2021-06-07T14:56:21.669485Z",
          "iopub.status.idle": "2021-06-07T14:56:21.679268Z",
          "shell.execute_reply": "2021-06-07T14:56:21.678673Z",
          "shell.execute_reply.started": "2021-06-07T14:56:21.669656Z"
        },
        "tags": [],
        "id": "mbHX1NKSjjA0"
      },
      "source": [
        "# Exercício 3B\n",
        "\n",
        "for Row in PdCSV[['paintings']].iterrows():\n",
        "    if (re.findall('[^0-9]', Row[1]['paintings'])):\n",
        "        print(Row[0], Row[1]['paintings'])"
      ],
      "execution_count": null,
      "outputs": []
    },
    {
      "cell_type": "code",
      "metadata": {
        "execution": {
          "iopub.execute_input": "2021-06-07T14:56:21.680244Z",
          "iopub.status.busy": "2021-06-07T14:56:21.680066Z",
          "iopub.status.idle": "2021-06-07T14:56:21.759281Z",
          "shell.execute_reply": "2021-06-07T14:56:21.758617Z",
          "shell.execute_reply.started": "2021-06-07T14:56:21.680225Z"
        },
        "tags": [],
        "id": "Bcoqs8zXjjA1"
      },
      "source": [
        "def FixPaintings(v_Num):\n",
        "    if (v_Num == 'three'):\n",
        "        return '3'\n",
        "    else:\n",
        "        return ''.join(re.findall('[0-9]+', v_Num))\n",
        "\n",
        "PdCSV['paintings'] = PdCSV['paintings'].apply(FixPaintings).astype('int32')\n",
        "PdCSV[['paintings']].describe()"
      ],
      "execution_count": null,
      "outputs": []
    },
    {
      "cell_type": "code",
      "metadata": {
        "execution": {
          "iopub.execute_input": "2021-06-07T14:56:21.760462Z",
          "iopub.status.busy": "2021-06-07T14:56:21.760232Z",
          "iopub.status.idle": "2021-06-07T14:56:22.007824Z",
          "shell.execute_reply": "2021-06-07T14:56:22.007214Z",
          "shell.execute_reply.started": "2021-06-07T14:56:21.760433Z"
        },
        "tags": [],
        "id": "lagyBo63jjA3"
      },
      "source": [
        "# Exercício 4\n",
        "\n",
        "def rescale_image_colors(img, n_colors=32):\n",
        "    img = numpy.array(img, dtype=numpy.float64, copy=False)\n",
        "    if (len(img.shape) > 2):\n",
        "        img = img[:,:,0]*0.2126 + img[:,:,1]*0.7152 + img[:,:,2]*0.0772\n",
        "\n",
        "    img = img/255.0\n",
        "    img = (img*(n_colors-1)).astype(numpy.uint8)\n",
        "    return img\n",
        "\n",
        "def euclidean_distance(ArrA, ArrB):\n",
        "    return numpy.sqrt(numpy.sum((ArrA - ArrB)**2))"
      ],
      "execution_count": 1,
      "outputs": []
    },
    {
      "cell_type": "code",
      "metadata": {
        "id": "PeKnS4FI9Jn-"
      },
      "source": [
        "def bic(img, n_colors): # função do monitor\n",
        "\n",
        "    a_interior = np.zeros(n_colors)\n",
        "    a_border = np.zeros(n_colors)\n",
        "\n",
        "    for i in range(0, img.shape[0]):\n",
        "        for j in range(0, img.shape[1]):\n",
        "            curr = img[i,j]\n",
        "            \n",
        "            #bordas da figura\n",
        "            if i == 0 or i == (img.shape[0] - 1):\n",
        "                a_border[curr] += 1\n",
        "                continue\n",
        "            if j == 0 or j == (img.shape[1] - 1):\n",
        "                a_border[curr] += 1\n",
        "                continue\n",
        "            \n",
        "            # vizinhos           \n",
        "            if img[i - 1, j] =! curr:\n",
        "                a_border[curr] += 1\n",
        "                continue\n",
        "            if img[i + 1, j] =! curr:\n",
        "                a_border[curr] += 1\n",
        "                continue\n",
        "            if img[i, j - 1] =! curr:\n",
        "                a_border[curr] += 1\n",
        "                continue\n",
        "            if img[i, j + 1] =! curr:\n",
        "                a_border[curr] += 1\n",
        "                continue\n",
        "\n",
        "            a_interior[curr] += 1\n",
        "            \n",
        "    a_interior = a_interior / a_interior.sum()\n",
        "    a_border = a_border / a_border.sum()\n",
        "    \n",
        "    a_bic = np.hstack([a_interior, a_border])\n",
        "    a_bic = a_bic / a_bic.sum()\n",
        "    \n",
        "    return a_bic"
      ],
      "execution_count": null,
      "outputs": []
    },
    {
      "cell_type": "code",
      "metadata": {
        "execution": {
          "iopub.execute_input": "2021-06-07T14:56:22.024352Z",
          "iopub.status.busy": "2021-06-07T14:56:22.024191Z",
          "iopub.status.idle": "2021-06-07T14:56:22.719660Z",
          "shell.execute_reply": "2021-06-07T14:56:22.718977Z",
          "shell.execute_reply.started": "2021-06-07T14:56:22.024334Z"
        },
        "tags": [],
        "id": "gwqu9BoYjjA5"
      },
      "source": [
        "FilesPath = 'paintings21/'\n",
        "\n",
        "RefImg = ''\n",
        "Images = []\n",
        "for FileName in os.listdir(FilesPath):\n",
        "    FullFileName = os.path.abspath(FilesPath + '/' + FileName)\n",
        "    if (os.path.isfile(FullFileName)):\n",
        "        if (FileName == 'query.jpg'):\n",
        "            RefImg = FullFileName\n",
        "        else:\n",
        "            Images.append(FullFileName)\n",
        "Images.sort()\n",
        "RefImgBIC = bic(RefImg)"
      ],
      "execution_count": null,
      "outputs": []
    },
    {
      "cell_type": "code",
      "metadata": {
        "execution": {
          "iopub.execute_input": "2021-06-07T14:56:22.720860Z",
          "iopub.status.busy": "2021-06-07T14:56:22.720614Z",
          "iopub.status.idle": "2021-06-07T14:56:37.999320Z",
          "shell.execute_reply": "2021-06-07T14:56:37.998453Z",
          "shell.execute_reply.started": "2021-06-07T14:56:22.720830Z"
        },
        "tags": [],
        "id": "1LlROBccjjA6"
      },
      "source": [
        "imgs = {}\n",
        "for Image in Images:\n",
        "    BaseName = os.path.basename(Image)\n",
        "    imgs[BaseName] = euclidean_distance(bic(Image), RefImgBIC)"
      ],
      "execution_count": null,
      "outputs": []
    },
    {
      "cell_type": "code",
      "metadata": {
        "execution": {
          "iopub.execute_input": "2021-06-07T14:56:38.000771Z",
          "iopub.status.busy": "2021-06-07T14:56:38.000510Z",
          "iopub.status.idle": "2021-06-07T14:56:38.910168Z",
          "shell.execute_reply": "2021-06-07T14:56:38.909485Z",
          "shell.execute_reply.started": "2021-06-07T14:56:38.000740Z"
        },
        "tags": [],
        "id": "KJ8xq-BjjjA6"
      },
      "source": [
        "img_idx = 161\n",
        "plt.figure(figsize=(20, 20))\n",
        "plt.subplot(img_idx); plt.imshow(imageio.imread(RefImg)); plt.title('Referência');\n",
        "\n",
        "for Similar in sorted(imgs.items(), key=lambda item:item[1])[0:5]:\n",
        "    img_idx += 1\n",
        "    plt.subplot(img_idx)\n",
        "    plt.imshow(imageio.imread(FilesPath + Similar[0]))\n",
        "    plt.title('Id: %s\\nBIC: %.5f' % (Similar[0], Similar[1]))"
      ],
      "execution_count": null,
      "outputs": []
    }
  ]
}